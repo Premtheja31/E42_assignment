{
 "cells": [
  {
   "cell_type": "markdown",
   "id": "4254ae9d",
   "metadata": {},
   "source": [
    "# WEBSCRAPING using SELENIUM"
   ]
  },
  {
   "cell_type": "code",
   "execution_count": 242,
   "id": "e49779ae",
   "metadata": {},
   "outputs": [],
   "source": [
    "from selenium import webdriver\n",
    "from selenium.webdriver.common.by import By\n",
    "from selenium.webdriver.common.keys import Keys\n",
    "import pandas as pd\n",
    "import pymongo\n",
    "import json"
   ]
  },
  {
   "cell_type": "code",
   "execution_count": 197,
   "id": "41455961",
   "metadata": {},
   "outputs": [],
   "source": [
    "url=\"https://craft.co/walmart/locations\""
   ]
  },
  {
   "cell_type": "code",
   "execution_count": 198,
   "id": "2cb8c57f",
   "metadata": {},
   "outputs": [],
   "source": [
    "driver=webdriver.Chrome()\n",
    "driver.get(url)"
   ]
  },
  {
   "cell_type": "code",
   "execution_count": 217,
   "id": "aba5064f",
   "metadata": {},
   "outputs": [],
   "source": [
    "videos=driver.find_elements(By.CLASS_NAME,'ZlaP1')"
   ]
  },
  {
   "cell_type": "code",
   "execution_count": 250,
   "id": "5e0bbd65",
   "metadata": {},
   "outputs": [],
   "source": [
    "country_list=[]\n",
    "city_list=[]\n",
    "address_list=[]"
   ]
  },
  {
   "cell_type": "code",
   "execution_count": 251,
   "id": "be7299f6",
   "metadata": {},
   "outputs": [],
   "source": [
    "for video in range(len(videos)):\n",
    "    if video==6:\n",
    "        break\n",
    "    country=videos[video].find_element(By.CSS_SELECTOR,f'#app > div > div._3rEQk > section:nth-child(5) > div > div > table:nth-child(1) > tbody > tr:nth-child({video+1}) > td:nth-child(1)').text\n",
    "    city=videos[video].find_element(By.CSS_SELECTOR,f'#app > div > div._3rEQk > section:nth-child(5) > div > div > table:nth-child(1) > tbody > tr:nth-child({video+1}) > td:nth-child(2)').text\n",
    "    address=videos[video].find_element(By.CSS_SELECTOR,f'#app > div > div._3rEQk > section:nth-child(5) > div > div > table:nth-child(1) > tbody > tr:nth-child({video+1}) > td:nth-child(3)').text\n",
    "    country_list.append(country)\n",
    "    city_list.append(city)\n",
    "    address_list.append(address)"
   ]
  },
  {
   "cell_type": "code",
   "execution_count": 252,
   "id": "02231ca2",
   "metadata": {},
   "outputs": [],
   "source": [
    "data_dict={\"country\":country_list,\"city\":city_list,\"address\":address_list}\n",
    "df_1=pd.DataFrame(data_dict)\n",
    "df_1"
   ]
  },
  {
   "cell_type": "code",
   "execution_count": 255,
   "id": "a8d9c711",
   "metadata": {},
   "outputs": [],
   "source": [
    "url=\"https://craft.co/tata/locations\""
   ]
  },
  {
   "cell_type": "code",
   "execution_count": 256,
   "id": "7926f255",
   "metadata": {},
   "outputs": [],
   "source": [
    "driver=webdriver.Chrome()\n",
    "driver.get(url)"
   ]
  },
  {
   "cell_type": "code",
   "execution_count": 257,
   "id": "f2c4849a",
   "metadata": {},
   "outputs": [],
   "source": [
    "videos=driver.find_elements(By.CLASS_NAME,'ZlaP1')"
   ]
  },
  {
   "cell_type": "code",
   "execution_count": 259,
   "id": "60ef33cb",
   "metadata": {},
   "outputs": [],
   "source": [
    "country_list=[]\n",
    "city_list=[]\n",
    "address_list=[]"
   ]
  },
  {
   "cell_type": "code",
   "execution_count": 260,
   "id": "596ec69e",
   "metadata": {},
   "outputs": [],
   "source": [
    "for video in range(len(videos)):\n",
    "    if video==6:\n",
    "        break\n",
    "    country=videos[video].find_element(By.CSS_SELECTOR,f'#app > div > div._3rEQk > section:nth-child(5) > div > div > table:nth-child(1) > tbody > tr:nth-child({video+1}) > td:nth-child(1)').text\n",
    "    city=videos[video].find_element(By.CSS_SELECTOR,f'#app > div > div._3rEQk > section:nth-child(5) > div > div > table:nth-child(1) > tbody > tr:nth-child({video+1}) > td:nth-child(2)').text\n",
    "    address=videos[video].find_element(By.CSS_SELECTOR,f'#app > div > div._3rEQk > section:nth-child(5) > div > div > table:nth-child(1) > tbody > tr:nth-child({video+1}) > td:nth-child(3)').text\n",
    "    country_list.append(country)\n",
    "    city_list.append(city)\n",
    "    address_list.append(address)"
   ]
  },
  {
   "cell_type": "code",
   "execution_count": 261,
   "id": "c2fdc5cd",
   "metadata": {},
   "outputs": [
    {
     "data": {
      "text/plain": [
       "['India',\n",
       " 'United States',\n",
       " 'China',\n",
       " 'Singapore',\n",
       " 'United Arab Emirates',\n",
       " 'United Kingdom']"
      ]
     },
     "execution_count": 261,
     "metadata": {},
     "output_type": "execute_result"
    }
   ],
   "source": [
    "country_list"
   ]
  },
  {
   "cell_type": "code",
   "execution_count": 262,
   "id": "fbd2e1ac",
   "metadata": {},
   "outputs": [],
   "source": [
    "data_dict={\"country\":country_list,\"city\":city_list,\"address\":address_list}\n",
    "df_2=pd.DataFrame(data_dict)"
   ]
  },
  {
   "cell_type": "code",
   "execution_count": 263,
   "id": "d194404d",
   "metadata": {},
   "outputs": [
    {
     "data": {
      "text/html": [
       "<div>\n",
       "<style scoped>\n",
       "    .dataframe tbody tr th:only-of-type {\n",
       "        vertical-align: middle;\n",
       "    }\n",
       "\n",
       "    .dataframe tbody tr th {\n",
       "        vertical-align: top;\n",
       "    }\n",
       "\n",
       "    .dataframe thead th {\n",
       "        text-align: right;\n",
       "    }\n",
       "</style>\n",
       "<table border=\"1\" class=\"dataframe\">\n",
       "  <thead>\n",
       "    <tr style=\"text-align: right;\">\n",
       "      <th></th>\n",
       "      <th>country</th>\n",
       "      <th>city</th>\n",
       "      <th>address</th>\n",
       "    </tr>\n",
       "  </thead>\n",
       "  <tbody>\n",
       "    <tr>\n",
       "      <th>0</th>\n",
       "      <td>United States</td>\n",
       "      <td>Bentonville</td>\n",
       "      <td>702 SW 8th St HQ</td>\n",
       "    </tr>\n",
       "    <tr>\n",
       "      <th>1</th>\n",
       "      <td>United States</td>\n",
       "      <td>Bentonville</td>\n",
       "      <td>2608 SE J St</td>\n",
       "    </tr>\n",
       "    <tr>\n",
       "      <th>2</th>\n",
       "      <td>United States</td>\n",
       "      <td>Hoboken</td>\n",
       "      <td>221 River St</td>\n",
       "    </tr>\n",
       "    <tr>\n",
       "      <th>3</th>\n",
       "      <td>United States</td>\n",
       "      <td>San Bruno</td>\n",
       "      <td>850 Cherry Ave</td>\n",
       "    </tr>\n",
       "    <tr>\n",
       "      <th>4</th>\n",
       "      <td>United States</td>\n",
       "      <td>Sunnyvale</td>\n",
       "      <td>840 W California Ave</td>\n",
       "    </tr>\n",
       "    <tr>\n",
       "      <th>5</th>\n",
       "      <td>Canada</td>\n",
       "      <td>Mississauga</td>\n",
       "      <td>1940 Argentia Rd</td>\n",
       "    </tr>\n",
       "  </tbody>\n",
       "</table>\n",
       "</div>"
      ],
      "text/plain": [
       "         country         city               address\n",
       "0  United States  Bentonville      702 SW 8th St HQ\n",
       "1  United States  Bentonville          2608 SE J St\n",
       "2  United States      Hoboken          221 River St\n",
       "3  United States    San Bruno        850 Cherry Ave\n",
       "4  United States    Sunnyvale  840 W California Ave\n",
       "5         Canada  Mississauga      1940 Argentia Rd"
      ]
     },
     "execution_count": 263,
     "metadata": {},
     "output_type": "execute_result"
    }
   ],
   "source": [
    "df_1"
   ]
  },
  {
   "cell_type": "code",
   "execution_count": 264,
   "id": "de940c85",
   "metadata": {},
   "outputs": [
    {
     "data": {
      "text/html": [
       "<div>\n",
       "<style scoped>\n",
       "    .dataframe tbody tr th:only-of-type {\n",
       "        vertical-align: middle;\n",
       "    }\n",
       "\n",
       "    .dataframe tbody tr th {\n",
       "        vertical-align: top;\n",
       "    }\n",
       "\n",
       "    .dataframe thead th {\n",
       "        text-align: right;\n",
       "    }\n",
       "</style>\n",
       "<table border=\"1\" class=\"dataframe\">\n",
       "  <thead>\n",
       "    <tr style=\"text-align: right;\">\n",
       "      <th></th>\n",
       "      <th>country</th>\n",
       "      <th>city</th>\n",
       "      <th>address</th>\n",
       "    </tr>\n",
       "  </thead>\n",
       "  <tbody>\n",
       "    <tr>\n",
       "      <th>0</th>\n",
       "      <td>India</td>\n",
       "      <td>Mumbai</td>\n",
       "      <td>Bombay House, Homi Modi St, Kala Ghoda, Fort HQ</td>\n",
       "    </tr>\n",
       "    <tr>\n",
       "      <th>1</th>\n",
       "      <td>United States</td>\n",
       "      <td>Arlington</td>\n",
       "      <td>1700 N Moore St #1520</td>\n",
       "    </tr>\n",
       "    <tr>\n",
       "      <th>2</th>\n",
       "      <td>China</td>\n",
       "      <td>Beijing</td>\n",
       "      <td>Suite 10A, Tower A, Gateway Plaza 18 Xiaguangl...</td>\n",
       "    </tr>\n",
       "    <tr>\n",
       "      <th>3</th>\n",
       "      <td>Singapore</td>\n",
       "      <td>Singapore</td>\n",
       "      <td>78 Shenton Way, #14 02</td>\n",
       "    </tr>\n",
       "    <tr>\n",
       "      <th>4</th>\n",
       "      <td>United Arab Emirates</td>\n",
       "      <td>Dubai</td>\n",
       "      <td>2001 to 2005, 20th Floor Jumeirah Bay X-3 Towe...</td>\n",
       "    </tr>\n",
       "    <tr>\n",
       "      <th>5</th>\n",
       "      <td>United Kingdom</td>\n",
       "      <td>London</td>\n",
       "      <td>18 Grosvenor Pl</td>\n",
       "    </tr>\n",
       "  </tbody>\n",
       "</table>\n",
       "</div>"
      ],
      "text/plain": [
       "                country       city  \\\n",
       "0                 India     Mumbai   \n",
       "1         United States  Arlington   \n",
       "2                 China    Beijing   \n",
       "3             Singapore  Singapore   \n",
       "4  United Arab Emirates      Dubai   \n",
       "5        United Kingdom     London   \n",
       "\n",
       "                                             address  \n",
       "0    Bombay House, Homi Modi St, Kala Ghoda, Fort HQ  \n",
       "1                              1700 N Moore St #1520  \n",
       "2  Suite 10A, Tower A, Gateway Plaza 18 Xiaguangl...  \n",
       "3                             78 Shenton Way, #14 02  \n",
       "4  2001 to 2005, 20th Floor Jumeirah Bay X-3 Towe...  \n",
       "5                                    18 Grosvenor Pl  "
      ]
     },
     "execution_count": 264,
     "metadata": {},
     "output_type": "execute_result"
    }
   ],
   "source": [
    "df_2"
   ]
  },
  {
   "cell_type": "code",
   "execution_count": 268,
   "id": "73e3a51a",
   "metadata": {},
   "outputs": [],
   "source": [
    "data_1=df_1.to_dict(orient=\"records\")\n",
    "data_2=df_2.to_dict(orient=\"records\")"
   ]
  },
  {
   "cell_type": "code",
   "execution_count": 269,
   "id": "ed8e8c6c",
   "metadata": {},
   "outputs": [
    {
     "data": {
      "text/plain": [
       "[{'country': 'United States',\n",
       "  'city': 'Bentonville',\n",
       "  'address': '702 SW 8th St HQ'},\n",
       " {'country': 'United States',\n",
       "  'city': 'Bentonville',\n",
       "  'address': '2608 SE J St'},\n",
       " {'country': 'United States', 'city': 'Hoboken', 'address': '221 River St'},\n",
       " {'country': 'United States',\n",
       "  'city': 'San Bruno',\n",
       "  'address': '850 Cherry Ave'},\n",
       " {'country': 'United States',\n",
       "  'city': 'Sunnyvale',\n",
       "  'address': '840 W California Ave'},\n",
       " {'country': 'Canada', 'city': 'Mississauga', 'address': '1940 Argentia Rd'}]"
      ]
     },
     "execution_count": 269,
     "metadata": {},
     "output_type": "execute_result"
    }
   ],
   "source": [
    "data_1"
   ]
  },
  {
   "cell_type": "code",
   "execution_count": 270,
   "id": "ccae1448",
   "metadata": {},
   "outputs": [
    {
     "data": {
      "text/plain": [
       "[{'country': 'India',\n",
       "  'city': 'Mumbai',\n",
       "  'address': 'Bombay House, Homi Modi St, Kala Ghoda, Fort HQ'},\n",
       " {'country': 'United States',\n",
       "  'city': 'Arlington',\n",
       "  'address': '1700 N Moore St #1520'},\n",
       " {'country': 'China',\n",
       "  'city': 'Beijing',\n",
       "  'address': 'Suite 10A, Tower A, Gateway Plaza 18 Xiaguangli, East 3rd Ring North Road'},\n",
       " {'country': 'Singapore',\n",
       "  'city': 'Singapore',\n",
       "  'address': '78 Shenton Way, #14 02'},\n",
       " {'country': 'United Arab Emirates',\n",
       "  'city': 'Dubai',\n",
       "  'address': '2001 to 2005, 20th Floor Jumeirah Bay X-3 Tower Cluster X'},\n",
       " {'country': 'United Kingdom', 'city': 'London', 'address': '18 Grosvenor Pl'}]"
      ]
     },
     "execution_count": 270,
     "metadata": {},
     "output_type": "execute_result"
    }
   ],
   "source": [
    "data_2"
   ]
  },
  {
   "cell_type": "markdown",
   "id": "3ab33700",
   "metadata": {},
   "source": [
    "# connecting MONGODB"
   ]
  },
  {
   "cell_type": "code",
   "execution_count": 267,
   "id": "f7a282de",
   "metadata": {},
   "outputs": [],
   "source": [
    "client=pymongo.MongoClient(\"mongodb://localhost:27017\")"
   ]
  },
  {
   "cell_type": "code",
   "execution_count": 271,
   "id": "b688e0a6",
   "metadata": {},
   "outputs": [],
   "source": [
    "db=client[\"E42_minor_project_1\"]"
   ]
  },
  {
   "cell_type": "code",
   "execution_count": 272,
   "id": "da8a48fd",
   "metadata": {},
   "outputs": [
    {
     "name": "stdout",
     "output_type": "stream",
     "text": [
      "Database(MongoClient(host=['localhost:27017'], document_class=dict, tz_aware=False, connect=True), 'E42_minor_project_1')\n"
     ]
    }
   ],
   "source": [
    "print(db)"
   ]
  },
  {
   "cell_type": "code",
   "execution_count": 273,
   "id": "e97aec24",
   "metadata": {},
   "outputs": [
    {
     "data": {
      "text/plain": [
       "<pymongo.results.InsertManyResult at 0x2729952e3a0>"
      ]
     },
     "execution_count": 273,
     "metadata": {},
     "output_type": "execute_result"
    }
   ],
   "source": [
    "db.Walmart.insert_many(data_1)\n",
    "db.Tata.insert_many(data_2)"
   ]
  }
 ],
 "metadata": {
  "kernelspec": {
   "display_name": "Python 3 (ipykernel)",
   "language": "python",
   "name": "python3"
  },
  "language_info": {
   "codemirror_mode": {
    "name": "ipython",
    "version": 3
   },
   "file_extension": ".py",
   "mimetype": "text/x-python",
   "name": "python",
   "nbconvert_exporter": "python",
   "pygments_lexer": "ipython3",
   "version": "3.9.13"
  }
 },
 "nbformat": 4,
 "nbformat_minor": 5
}
