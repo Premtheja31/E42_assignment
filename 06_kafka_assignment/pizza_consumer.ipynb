{
 "cells": [
  {
   "cell_type": "code",
   "execution_count": 1,
   "id": "f1d8bc51",
   "metadata": {},
   "outputs": [],
   "source": [
    "from kafka import KafkaConsumer\n",
    "from json import loads\n",
    "import json"
   ]
  },
  {
   "cell_type": "code",
   "execution_count": 2,
   "id": "e8036781",
   "metadata": {},
   "outputs": [],
   "source": [
    "consumer=KafkaConsumer(\"pizza\",bootstrap_servers=[\"localhost:9092\"],api_version=(0,10))"
   ]
  },
  {
   "cell_type": "code",
   "execution_count": 12,
   "id": "3ddb36e5",
   "metadata": {},
   "outputs": [],
   "source": [
    "def customer(order):\n",
    "    for i in consumer:\n",
    "        my_new_string_value = i.value.decode(\"utf-8\")\n",
    "        my_json = loads(my_new_string_value)\n",
    "        if order in my_json:\n",
    "            print(\"the amount for the pizza is : \",my_json[order])\n",
    "        else:\n",
    "            print(\"invalid request\")\n",
    "        break"
   ]
  },
  {
   "cell_type": "code",
   "execution_count": 15,
   "id": "57f61050",
   "metadata": {},
   "outputs": [
    {
     "name": "stdout",
     "output_type": "stream",
     "text": [
      "b'{\"Farmhouse\": 300, \"Marghreita\": 200, \"Cheese burst\": 250}'\n",
      "invalid request\n"
     ]
    }
   ],
   "source": [
    "customer(\"chicken\")"
   ]
  }
 ],
 "metadata": {
  "kernelspec": {
   "display_name": "Python 3 (ipykernel)",
   "language": "python",
   "name": "python3"
  },
  "language_info": {
   "codemirror_mode": {
    "name": "ipython",
    "version": 3
   },
   "file_extension": ".py",
   "mimetype": "text/x-python",
   "name": "python",
   "nbconvert_exporter": "python",
   "pygments_lexer": "ipython3",
   "version": "3.9.13"
  }
 },
 "nbformat": 4,
 "nbformat_minor": 5
}
